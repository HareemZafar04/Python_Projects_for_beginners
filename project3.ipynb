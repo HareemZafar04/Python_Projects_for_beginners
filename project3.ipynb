{
  "nbformat": 4,
  "nbformat_minor": 0,
  "metadata": {
    "colab": {
      "provenance": []
    },
    "kernelspec": {
      "name": "python3",
      "display_name": "Python 3"
    },
    "language_info": {
      "name": "python"
    }
  },
  "cells": [
    {
      "cell_type": "markdown",
      "source": [],
      "metadata": {
        "id": "jurgwjECITfG"
      }
    },
    {
      "cell_type": "markdown",
      "source": [
        "# Guess the Number Game Python Project (User)"
      ],
      "metadata": {
        "id": "xG2cx12mIxhN"
      }
    },
    {
      "cell_type": "code",
      "execution_count": null,
      "metadata": {
        "id": "tNX74p7EIL6m"
      },
      "outputs": [],
      "source": [
        "import random  # Random guesses ke liye library import ki hai yaha mene"
      ]
    },
    {
      "cell_type": "markdown",
      "source": [
        "# function define"
      ],
      "metadata": {
        "id": "j8m1LVr3LrhN"
      }
    },
    {
      "cell_type": "code",
      "source": [
        "def play_game():\n",
        "    print(\"\\n Welcome to the 'Guess the Number' Game\")\n",
        "\n",
        "    # User se range ka input lena\n",
        "    low = int(input(\"Enter the minimum number for the range: \"))\n",
        "    high = int(input(\"Enter the maximum number for the range: \"))\n",
        "    print(f\"\\nThink of a number between {low} and {high}. I (the computer) will try to guess it!\")\n",
        "\n",
        "    attempts = 0  # Total guesses ka count\n",
        "\n",
        "    while True:\n",
        "        computer_guess = random.randint(low, high)  # Computer ka guess\n",
        "        attempts += 1\n",
        "\n",
        "        print(f\"\\nIs your number {computer_guess}?\")\n",
        "        print(\"Type: \\n1 - Too Low \\n2 - Too High \\n3 - Correct\")\n",
        "\n",
        "        user_feedback = input(\"Enter 1, 2, or 3: \").strip()\n",
        "\n",
        "        # Feedback handle karna\n",
        "        if user_feedback == \"1\":\n",
        "            low = computer_guess + 1  # Range ko adjust karna\n",
        "        elif user_feedback == \"2\":\n",
        "            high = computer_guess - 1  # Range adjust karna\n",
        "        elif user_feedback == \"3\":\n",
        "            print(f\"\\n Hurray! I guessed your number {computer_guess} in {attempts} attempts.\")\n",
        "            break  # Loop end karna\n",
        "        else:\n",
        "            print(\"Invalid input! Please enter 1, 2, or 3.\")\n",
        "\n",
        "    return attempts  # Total attempts return karna\n"
      ],
      "metadata": {
        "id": "b1B-qtfOLvP5"
      },
      "execution_count": null,
      "outputs": []
    },
    {
      "cell_type": "markdown",
      "source": [
        "# main game logic"
      ],
      "metadata": {
        "id": "ezwCbdGyMtiH"
      }
    },
    {
      "cell_type": "code",
      "source": [
        "# Main game loop\n",
        "total_games = 0\n",
        "total_attempts = 0\n",
        "\n",
        "while True:\n",
        "    attempts = play_game()\n",
        "    total_games += 1\n",
        "    total_attempts += attempts\n",
        "\n",
        "    print(\"\\nDo you want to play again? (yes/no)\")\n",
        "    play_again = input().strip().lower()\n",
        "\n",
        "    if play_again != \"yes\":\n",
        "        print(\"\\n🎮 Game Over\")\n",
        "        print(f\"Total Games Played: {total_games}\")\n",
        "        print(f\"Total Attempts: {total_attempts}\")\n",
        "        print(\"Thanks for playing! Goodbye. 😊\")\n",
        "        break\n"
      ],
      "metadata": {
        "colab": {
          "base_uri": "https://localhost:8080/"
        },
        "id": "A0_iXgQ_LxaT",
        "outputId": "253bcf99-6cf5-4981-b64c-363a8c2754b3"
      },
      "execution_count": null,
      "outputs": [
        {
          "output_type": "stream",
          "name": "stdout",
          "text": [
            "\n",
            " Welcome to the 'Guess the Number' Game\n",
            "Enter the minimum number for the range: 7\n",
            "Enter the maximum number for the range: 8\n",
            "\n",
            "Think of a number between 7 and 8. I (the computer) will try to guess it!\n",
            "\n",
            "Is your number 8?\n",
            "Type: \n",
            "1 - Too Low \n",
            "2 - Too High \n",
            "3 - Correct\n",
            "Enter 1, 2, or 3: 3\n",
            "\n",
            " Hurray! I guessed your number 8 in 1 attempts.\n",
            "\n",
            "Do you want to play again? (yes/no)\n",
            "no\n",
            "\n",
            "🎮 Game Over\n",
            "Total Games Played: 1\n",
            "Total Attempts: 1\n",
            "Thanks for playing! Goodbye. 😊\n"
          ]
        }
      ]
    }
  ]
}