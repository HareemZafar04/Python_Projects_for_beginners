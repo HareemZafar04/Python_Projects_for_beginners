{
  "nbformat": 4,
  "nbformat_minor": 0,
  "metadata": {
    "colab": {
      "provenance": []
    },
    "kernelspec": {
      "name": "python3",
      "display_name": "Python 3"
    },
    "language_info": {
      "name": "python"
    }
  },
  "cells": [
    {
      "cell_type": "markdown",
      "source": [
        "# Hangman Python Project"
      ],
      "metadata": {
        "id": "PeObO1g7ShAS"
      }
    },
    {
      "cell_type": "markdown",
      "source": [],
      "metadata": {
        "id": "-01xAq7ESfJO"
      }
    },
    {
      "cell_type": "code",
      "execution_count": null,
      "metadata": {
        "id": "RknbZDVIRh3H"
      },
      "outputs": [],
      "source": [
        "import random  # Random word choose karne ke liye\n"
      ]
    },
    {
      "cell_type": "markdown",
      "source": [
        "Words List"
      ],
      "metadata": {
        "id": "toNMTfE6Sllu"
      }
    },
    {
      "cell_type": "code",
      "source": [
        "# Simple words ki list\n",
        "word_list = [\"apple\", \"banana\", \"cherry\", \"grapes\", \"mango\"]\n"
      ],
      "metadata": {
        "id": "9xLnC-d3SRZc"
      },
      "execution_count": null,
      "outputs": []
    },
    {
      "cell_type": "markdown",
      "source": [
        "# Game Function"
      ],
      "metadata": {
        "id": "BLKocjXkS2Yf"
      }
    },
    {
      "cell_type": "code",
      "source": [
        "def play_hangman():\n",
        "    print(\"Welcome to Hangman Game! 🎮\\n\")\n",
        "\n",
        "    # Random word choose karna\n",
        "    word_to_guess = random.choice(word_list)\n",
        "    guessed_word = [\"_\"] * len(word_to_guess)  # Hidden word ko blank spaces me dikhana\n",
        "    attempts_left = 6  # Total attempts\n",
        "\n",
        "    guessed_letters = []  # Guessed letters ko track karne ke liye\n",
        "\n",
        "    # Game loop\n",
        "    while attempts_left > 0 and \"_\" in guessed_word:\n",
        "        print(\"\\nWord to Guess: \", \" \".join(guessed_word))\n",
        "        print(f\"Attempts left: {attempts_left}\")\n",
        "        print(f\"Guessed letters: {', '.join(guessed_letters)}\")\n",
        "\n",
        "        # User se input lena\n",
        "        guess = input(\"\\nGuess a letter: \").strip().lower()\n",
        "\n",
        "        if len(guess) != 1 or not guess.isalpha():  # Agar input valid nahi hai\n",
        "            print(\"❌ Please enter only a single letter.\")\n",
        "            continue\n",
        "\n",
        "        # Agar letter already guessed ho\n",
        "        if guess in guessed_letters:\n",
        "            print(\"⚠️ You already guessed that letter!\")\n",
        "            continue\n",
        "\n",
        "        guessed_letters.append(guess)  # Guess ko add karna\n",
        "\n",
        "        # Check karna ki guess word mein hai ya nahi\n",
        "        if guess in word_to_guess:\n",
        "            print(\"✅ Correct guess!\")\n",
        "            for i, letter in enumerate(word_to_guess):\n",
        "                if letter == guess:\n",
        "                    guessed_word[i] = guess\n",
        "        else:\n",
        "            print(\"❌ Incorrect guess!\")\n",
        "            attempts_left -= 1  # Wrong guess par attempts kam hote hain\n",
        "\n",
        "    # Result check karna\n",
        "    if \"_\" not in guessed_word:\n",
        "        print(\"\\n you won! You guessed the word correctly!\")\n",
        "        print(f\"The word was: {word_to_guess}\")\n",
        "    else:\n",
        "        print(\"\\n😔 You lost! Game over!\")\n",
        "        print(f\"The word was: {word_to_guess}\")\n"
      ],
      "metadata": {
        "id": "z5OuG3LRSUM9"
      },
      "execution_count": null,
      "outputs": []
    },
    {
      "cell_type": "markdown",
      "source": [
        "let's start game"
      ],
      "metadata": {
        "id": "oWMwyWdBS42D"
      }
    },
    {
      "cell_type": "code",
      "source": [
        "# Game ko start karna\n",
        "play_hangman()\n"
      ],
      "metadata": {
        "colab": {
          "base_uri": "https://localhost:8080/"
        },
        "id": "XZwVJUP9SWxR",
        "outputId": "ea51f759-6f45-46e9-9dd7-8ecfa497bfde"
      },
      "execution_count": null,
      "outputs": [
        {
          "output_type": "stream",
          "name": "stdout",
          "text": [
            "Welcome to Hangman Game! 🎮\n",
            "\n",
            "\n",
            "Word to Guess:  _ _ _ _ _ _\n",
            "Attempts left: 6\n",
            "Guessed letters: \n",
            "\n",
            "Guess a letter: apple\n",
            "❌ Please enter only a single letter.\n",
            "\n",
            "Word to Guess:  _ _ _ _ _ _\n",
            "Attempts left: 6\n",
            "Guessed letters: \n",
            "\n",
            "Guess a letter: b\n",
            "✅ Correct guess!\n",
            "\n",
            "Word to Guess:  b _ _ _ _ _\n",
            "Attempts left: 6\n",
            "Guessed letters: b\n",
            "\n",
            "Guess a letter: a\n",
            "✅ Correct guess!\n",
            "\n",
            "Word to Guess:  b a _ a _ a\n",
            "Attempts left: 6\n",
            "Guessed letters: b, a\n",
            "\n",
            "Guess a letter: t\n",
            "❌ Incorrect guess!\n",
            "\n",
            "Word to Guess:  b a _ a _ a\n",
            "Attempts left: 5\n",
            "Guessed letters: b, a, t\n",
            "\n",
            "Guess a letter: n\n",
            "✅ Correct guess!\n",
            "\n",
            " you won! You guessed the word correctly!\n",
            "The word was: banana\n"
          ]
        }
      ]
    }
  ]
}