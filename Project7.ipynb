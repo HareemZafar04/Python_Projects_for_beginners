{
  "nbformat": 4,
  "nbformat_minor": 0,
  "metadata": {
    "colab": {
      "provenance": []
    },
    "kernelspec": {
      "name": "python3",
      "display_name": "Python 3"
    },
    "language_info": {
      "name": "python"
    }
  },
  "cells": [
    {
      "cell_type": "markdown",
      "source": [
        "# **Password Generator Python Project**"
      ],
      "metadata": {
        "id": "D0SbbUetczEF"
      }
    },
    {
      "cell_type": "markdown",
      "source": [
        "# Import Libraries"
      ],
      "metadata": {
        "id": "WvaWUTQ-c6Lh"
      }
    },
    {
      "cell_type": "code",
      "source": [
        "import random\n",
        "import string\n"
      ],
      "metadata": {
        "id": "KG1H0PKAc7jG"
      },
      "execution_count": null,
      "outputs": []
    },
    {
      "cell_type": "markdown",
      "source": [
        "# Password Generation Function"
      ],
      "metadata": {
        "id": "R9stxM0udAkX"
      }
    },
    {
      "cell_type": "code",
      "execution_count": null,
      "metadata": {
        "id": "DKplju6qcISy"
      },
      "outputs": [],
      "source": [
        "def generate_password(length, use_uppercase=True, use_digits=True, use_special=True):\n",
        "    # Password ke liye available characters\n",
        "    characters = string.ascii_lowercase  # Lowercase characters\n",
        "\n",
        "    if use_uppercase:\n",
        "        characters += string.ascii_uppercase  # Uppercase characters ko add karna\n",
        "\n",
        "    if use_digits:\n",
        "        characters += string.digits  # Digits ko add karna\n",
        "\n",
        "    if use_special:\n",
        "        characters += string.punctuation  # Special characters ko add karna\n",
        "\n",
        "    # Randomly characters se password generate karna\n",
        "    password = ''.join(random.choice(characters) for _ in range(length))\n",
        "\n",
        "    return password\n"
      ]
    },
    {
      "cell_type": "markdown",
      "source": [
        "# user input"
      ],
      "metadata": {
        "id": "Wi8xbwAvdHdc"
      }
    },
    {
      "cell_type": "code",
      "source": [
        "# User se input lena\n",
        "try:\n",
        "    length = int(input(\"Enter the length of the password: \"))\n",
        "    use_uppercase = input(\"Include uppercase letters? (yes/no): \").lower() == 'yes'\n",
        "    use_digits = input(\"Include digits? (yes/no): \").lower() == 'yes'\n",
        "    use_special = input(\"Include special characters? (yes/no): \").lower() == 'yes'\n",
        "\n",
        "    # Password generate karna\n",
        "    password = generate_password(length, use_uppercase, use_digits, use_special)\n",
        "    print(f\"\\nGenerated Password: {password}\")\n",
        "except ValueError:\n",
        "    print(\"❌ Invalid input. Please enter valid numbers or 'yes'/'no'.\")\n"
      ],
      "metadata": {
        "colab": {
          "base_uri": "https://localhost:8080/"
        },
        "id": "Fzsoj7nZdFOU",
        "outputId": "d67fdaa8-945c-44a7-9d6e-da3ac3b21c32"
      },
      "execution_count": null,
      "outputs": [
        {
          "output_type": "stream",
          "name": "stdout",
          "text": [
            "Enter the length of the password: 12\n",
            "Include uppercase letters? (yes/no): yes\n",
            "Include digits? (yes/no): yes\n",
            "Include special characters? (yes/no): yes\n",
            "\n",
            "Generated Password: fjgW;czmRopM\n"
          ]
        }
      ]
    }
  ]
}