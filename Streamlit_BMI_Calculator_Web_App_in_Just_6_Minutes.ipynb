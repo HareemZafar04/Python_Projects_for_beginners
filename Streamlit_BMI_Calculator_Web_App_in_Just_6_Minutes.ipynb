{
  "cells": [
    {
      "cell_type": "code",
      "execution_count": null,
      "metadata": {
        "colab": {
          "base_uri": "https://localhost:8080/",
          "height": 713
        },
        "id": "dMKvBUfXWQoj",
        "outputId": "9187b2db-de17-4f7b-f970-bc3d713ec567"
      },
      "outputs": [
        {
          "output_type": "stream",
          "name": "stdout",
          "text": [
            "Collecting pyngrok\n",
            "  Using cached pyngrok-7.2.3-py3-none-any.whl.metadata (8.7 kB)\n",
            "Collecting stream\n",
            "  Using cached stream-0.8.tar.gz (13 kB)\n",
            "  \u001b[1;31merror\u001b[0m: \u001b[1msubprocess-exited-with-error\u001b[0m\n",
            "  \n",
            "  \u001b[31m×\u001b[0m \u001b[32mpython setup.py egg_info\u001b[0m did not run successfully.\n",
            "  \u001b[31m│\u001b[0m exit code: \u001b[1;36m1\u001b[0m\n",
            "  \u001b[31m╰─>\u001b[0m See above for output.\n",
            "  \n",
            "  \u001b[1;35mnote\u001b[0m: This error originates from a subprocess, and is likely not a problem with pip.\n",
            "  Preparing metadata (setup.py) ... \u001b[?25l\u001b[?25herror\n",
            "\u001b[1;31merror\u001b[0m: \u001b[1mmetadata-generation-failed\u001b[0m\n",
            "\n",
            "\u001b[31m×\u001b[0m Encountered error while generating package metadata.\n",
            "\u001b[31m╰─>\u001b[0m See above for output.\n",
            "\n",
            "\u001b[1;35mnote\u001b[0m: This is an issue with the package mentioned above, not pip.\n",
            "\u001b[1;36mhint\u001b[0m: See above for details.\n"
          ]
        },
        {
          "output_type": "error",
          "ename": "ModuleNotFoundError",
          "evalue": "No module named 'pyngrok'",
          "traceback": [
            "\u001b[0;31m---------------------------------------------------------------------------\u001b[0m",
            "\u001b[0;31mModuleNotFoundError\u001b[0m                       Traceback (most recent call last)",
            "\u001b[0;32m<ipython-input-3-6196b4113b09>\u001b[0m in \u001b[0;36m<cell line: 0>\u001b[0;34m()\u001b[0m\n\u001b[1;32m      3\u001b[0m \u001b[0;34m\u001b[0m\u001b[0m\n\u001b[1;32m      4\u001b[0m \u001b[0;31m# Step 2: Authenticate pyngrok with your ngrok account (replace YOUR_NGROK_AUTH_TOKEN with your actual token)\u001b[0m\u001b[0;34m\u001b[0m\u001b[0;34m\u001b[0m\u001b[0m\n\u001b[0;32m----> 5\u001b[0;31m \u001b[0;32mfrom\u001b[0m \u001b[0mpyngrok\u001b[0m \u001b[0;32mimport\u001b[0m \u001b[0mngrok\u001b[0m\u001b[0;34m\u001b[0m\u001b[0;34m\u001b[0m\u001b[0m\n\u001b[0m\u001b[1;32m      6\u001b[0m \u001b[0;34m\u001b[0m\u001b[0m\n\u001b[1;32m      7\u001b[0m \u001b[0;31m# Replace with your ngrok auth token\u001b[0m\u001b[0;34m\u001b[0m\u001b[0;34m\u001b[0m\u001b[0m\n",
            "\u001b[0;31mModuleNotFoundError\u001b[0m: No module named 'pyngrok'",
            "",
            "\u001b[0;31m---------------------------------------------------------------------------\u001b[0;32m\nNOTE: If your import is failing due to a missing package, you can\nmanually install dependencies using either !pip or !apt.\n\nTo view examples of installing some common dependencies, click the\n\"Open Examples\" button below.\n\u001b[0;31m---------------------------------------------------------------------------\u001b[0m\n"
          ],
          "errorDetails": {
            "actions": [
              {
                "action": "open_url",
                "actionText": "Open Examples",
                "url": "/notebooks/snippets/importing_libraries.ipynb"
              }
            ]
          }
        }
      ],
      "source": [
        " # Step 1: Install Streamlit and pyngrok\n",
        "!pip install --upgrade pyngrok stream\n",
        "\n",
        "# Step 2: Authenticate pyngrok with your ngrok account (replace YOUR_NGROK_AUTH_TOKEN with your actual token)\n",
        "from pyngrok import ngrok\n",
        "\n",
        "# Replace with your ngrok auth token\n",
        "ngrok.set_auth_token('2qMLI99jVsmgzvwzpGJVtJw73j0_25bY1FnnnwZH4F7a3zgNs')\n",
        "\n",
        "# Replace with your ngrok auth token\n",
        "ngrok.set_auth_token('2qMLI99jVsmgzvwzpGJVtJw73j0_25bY1FnnnwZH4F7a3zgNs')\n",
        "\n",
        "# Step 3: Save the Streamlit BMI Calculator code to a .py file\n",
        "app_code = \"\"\"\n",
        "import streamlit as st\n",
        "\n",
        "st.title(\"BMI Calculator\")\n",
        "\n",
        "weight = st.number_input(\"Enter your weight (kg): \", min_value=1.0, step=0.1)\n",
        "height = st.number_input(\"Enter your height (m): \", min_value=0.1, step=0.01)\n",
        "\n",
        "if st.button(\"Calculate BMI\"):\n",
        "    bmi = weight / (height ** 2)\n",
        "    st.write(f\"Your BMI is: {bmi:.2f}\")\n",
        "    if bmi < 18.5:\n",
        "        st.write(\"You are underweight.\")\n",
        "    elif 18.5 <= bmi < 24.9:\n",
        "        st.write(\"You have a normal weight.\")\n",
        "    else:\n",
        "        st.write(\"You are overweight.\")\n",
        "\"\"\"\n",
        "\n",
        "# Write the BMI calculator code to a Python file\n",
        "with open(\"bmi_calculator.py\", \"w\") as f:\n",
        "    f.write(app_code)\n",
        "\n",
        "# Step 4: Use the correct ngrok configuration to open the tunnel\n",
        "# Open a tunnel to the streamlit app port (8501)\n",
        "public_url = ngrok.connect(8501)  # Default Streamlit port\n",
        "print(f\"Streamlit app is live at: {public_url}\")\n",
        "\n",
        "# Step 5: Run the Streamlit app in the background\n",
        "!streamlit run bmi_calculator.py &  # Run Streamlit in the background"
      ]
    }
  ],
  "metadata": {
    "colab": {
      "provenance": []
    },
    "kernelspec": {
      "display_name": "Python 3",
      "name": "python3"
    },
    "language_info": {
      "name": "python"
    }
  },
  "nbformat": 4,
  "nbformat_minor": 0
}