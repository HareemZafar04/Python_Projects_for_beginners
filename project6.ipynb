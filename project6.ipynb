{
  "cells": [
    {
      "cell_type": "markdown",
      "metadata": {
        "id": "Ot6v5jBYUv4L"
      },
      "source": [
        "# Countdown Timer Python Project"
      ]
    },
    {
      "cell_type": "markdown",
      "source": [
        "# **Import Libraries**"
      ],
      "metadata": {
        "id": "wX1SXRA9bXkS"
      }
    },
    {
      "cell_type": "code",
      "execution_count": null,
      "metadata": {
        "id": "X6bMmCkEUZK6"
      },
      "outputs": [],
      "source": [
        "import time\n"
      ]
    },
    {
      "cell_type": "markdown",
      "source": [
        "# Updated timer Function"
      ],
      "metadata": {
        "id": "sxvyO33HbQCz"
      }
    },
    {
      "cell_type": "code",
      "execution_count": null,
      "metadata": {
        "id": "Ycpv3tYOU1w-"
      },
      "outputs": [],
      "source": [
        "def countdown_timer(seconds):\n",
        "    print(f\"Starting countdown for {seconds} seconds...\\n\")\n",
        "\n",
        "    while seconds > 0:\n",
        "        mins, secs = divmod(seconds, 60)  # Minutes aur seconds ko divide karte hain\n",
        "        timer = '{:02d}:{:02d}'.format(mins, secs)\n",
        "\n",
        "        # Timer ko same line par print karna\n",
        "        print(timer, end=\"\\r\")\n",
        "\n",
        "        if seconds == seconds // 2:  # Jab time 50% complete ho\n",
        "            print(\"\\nHalfway there! Keep going...\")\n",
        "\n",
        "        time.sleep(1)  # Har second ke baad wait karna\n",
        "        seconds -= 1\n",
        "\n",
        "    print(\"00:00\\nTime's up! ⏰\")  # Jab time khatam ho jaye\n"
      ]
    },
    {
      "cell_type": "markdown",
      "source": [
        "# User input or error Handling"
      ],
      "metadata": {
        "id": "Isk4pR2wbLac"
      }
    },
    {
      "cell_type": "code",
      "execution_count": null,
      "metadata": {
        "colab": {
          "base_uri": "https://localhost:8080/"
        },
        "id": "sCkwPaoKU83O",
        "outputId": "a24e168f-b186-4436-a29a-1d8ccc2ed150"
      },
      "outputs": [
        {
          "output_type": "stream",
          "name": "stdout",
          "text": [
            "Enter the countdown time in seconds: 10\n",
            "Starting countdown for 10 seconds...\n",
            "\n",
            "00:00\n",
            "Time's up! ⏰\n"
          ]
        }
      ],
      "source": [
        "# User se input lena aur error handling karna\n",
        "try:\n",
        "    total_seconds = int(input(\"Enter the countdown time in seconds: \"))\n",
        "    if total_seconds <= 0:\n",
        "        print(\"❌ Please enter a positive number of seconds.\")\n",
        "    else:\n",
        "        countdown_timer(total_seconds)\n",
        "except ValueError:\n",
        "    print(\"❌ Invalid input. Please enter a valid number.\")\n"
      ]
    }
  ],
  "metadata": {
    "colab": {
      "provenance": []
    },
    "kernelspec": {
      "display_name": "Python 3",
      "name": "python3"
    },
    "language_info": {
      "name": "python"
    }
  },
  "nbformat": 4,
  "nbformat_minor": 0
}