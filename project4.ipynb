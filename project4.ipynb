{
  "nbformat": 4,
  "nbformat_minor": 0,
  "metadata": {
    "colab": {
      "provenance": []
    },
    "kernelspec": {
      "name": "python3",
      "display_name": "Python 3"
    },
    "language_info": {
      "name": "python"
    }
  },
  "cells": [
    {
      "cell_type": "markdown",
      "source": [
        "# Rock, paper, scissors Python Project\n",
        "\n"
      ],
      "metadata": {
        "id": "WVe2w9tjN1J3"
      }
    },
    {
      "cell_type": "code",
      "execution_count": null,
      "metadata": {
        "id": "9hVK2go-Nymb"
      },
      "outputs": [],
      "source": [
        "import random  # Random choices ke liye library use ki hai mene yaha\n"
      ]
    },
    {
      "cell_type": "markdown",
      "source": [
        "# game logic ka function"
      ],
      "metadata": {
        "id": "ES7q71KdOHDP"
      }
    },
    {
      "cell_type": "code",
      "source": [
        "# Function to play one round of Rock, Paper, Scissors\n",
        "def play_round():\n",
        "    choices = [\"rock\", \"paper\", \"scissors\"]  # Valid choices hai ye\n",
        "    computer_choice = random.choice(choices)  # Computer ki random choice\n",
        "\n",
        "    print(\"\\nYour options: rock, paper, scissors\")\n",
        "    user_choice = input(\"Enter your choice: \").strip().lower()  # User se input lena\n",
        "\n",
        "    # mene ye Invalid choice handle karne k liyee lagaya hai\n",
        "    if user_choice not in choices:\n",
        "        print(\"Invalid choice! Please choose rock, paper, or scissors.\")\n",
        "        return None, None  # Round invalid hoga yahaa par is liyeee\n",
        "\n",
        "    # Round ka result check karne k liye\n",
        "    print(f\"Computer chose: {computer_choice}\")\n",
        "\n",
        "    if user_choice == computer_choice:\n",
        "        print(\"It's a tie!\")\n",
        "        return \"tie\", computer_choice\n",
        "    elif (user_choice == \"rock\" and computer_choice == \"scissors\") or \\\n",
        "         (user_choice == \"paper\" and computer_choice == \"rock\") or \\\n",
        "         (user_choice == \"scissors\" and computer_choice == \"paper\"):\n",
        "        print(\"You win this round!\")\n",
        "        return \"user\", computer_choice\n",
        "    else:\n",
        "        print(\"Computer wins this round!\")\n",
        "        return \"computer\", computer_choice\n"
      ],
      "metadata": {
        "id": "qV4S83NJOC6l"
      },
      "execution_count": null,
      "outputs": []
    },
    {
      "cell_type": "markdown",
      "source": [
        "# game loop"
      ],
      "metadata": {
        "id": "6gXMFsKJOpye"
      }
    },
    {
      "cell_type": "code",
      "source": [
        "# Main game function ye hai\n",
        "def play_game():\n",
        "    user_score = 0\n",
        "    computer_score = 0\n",
        "    rounds_played = 0\n",
        "\n",
        "    print(\"\\n Welcome to the Rock, Paper, Scissors Game! 🎮\")\n",
        "\n",
        "    while True:\n",
        "        # Ek round khelna,   pehlaa round hai\n",
        "        result, _ = play_round()\n",
        "        if result == \"user\":\n",
        "            user_score += 1\n",
        "        elif result == \"computer\":\n",
        "            computer_score += 1\n",
        "\n",
        "        if result:  # Agar valid round hua toh round count + ho jaye gayee\n",
        "            rounds_played += 1\n",
        "\n",
        "        # Current score dikhana\n",
        "        print(f\"\\nScores after {rounds_played} rounds:\")\n",
        "        print(f\"  You: {user_score}\")\n",
        "        print(f\"  Computer: {computer_score}\")\n",
        "\n",
        "        # Play again k option ke liyee hai\n",
        "        print(\"\\nDo you want to play another round? (yes/no)\")\n",
        "        play_again = input().strip().lower()\n",
        "        if play_again != \"yes\":\n",
        "            print(\"\\n Final Scores \")\n",
        "            print(f\"  Total Rounds Played: {rounds_played}\")\n",
        "            print(f\"  You: {user_score}\")\n",
        "            print(f\"  Computer: {computer_score}\")\n",
        "\n",
        "            # Final winner\n",
        "            if user_score > computer_score:\n",
        "                print(\"Congratulations! You won the game! 🏆\")\n",
        "            elif user_score < computer_score:\n",
        "                print(\"Computer wins the game! Better luck next time. 🤖\")\n",
        "            else:\n",
        "                print(\"It's an overall tie! Well played. 🎭\")\n",
        "            break\n"
      ],
      "metadata": {
        "id": "KRIIqXJPOsYL"
      },
      "execution_count": null,
      "outputs": []
    },
    {
      "cell_type": "code",
      "source": [
        "# Run the game\n",
        "play_game()\n"
      ],
      "metadata": {
        "colab": {
          "base_uri": "https://localhost:8080/"
        },
        "id": "8EONnQpZOtUw",
        "outputId": "d4705395-57e4-4e5a-85c2-856e1cd56cda"
      },
      "execution_count": null,
      "outputs": [
        {
          "output_type": "stream",
          "name": "stdout",
          "text": [
            "\n",
            " Welcome to the Rock, Paper, Scissors Game! 🎮\n",
            "\n",
            "Your options: rock, paper, scissors\n",
            "Enter your choice: rock\n",
            "Computer chose: paper\n",
            "Computer wins this round!\n",
            "\n",
            "Scores after 1 rounds:\n",
            "  You: 0\n",
            "  Computer: 1\n",
            "\n",
            "Do you want to play another round? (yes/no)\n",
            "yes\n",
            "\n",
            "Your options: rock, paper, scissors\n",
            "Enter your choice: paper\n",
            "Computer chose: paper\n",
            "It's a tie!\n",
            "\n",
            "Scores after 2 rounds:\n",
            "  You: 0\n",
            "  Computer: 1\n",
            "\n",
            "Do you want to play another round? (yes/no)\n",
            "yes\n",
            "\n",
            "Your options: rock, paper, scissors\n",
            "Enter your choice: rocl\n",
            "Invalid choice! Please choose rock, paper, or scissors.\n",
            "\n",
            "Scores after 2 rounds:\n",
            "  You: 0\n",
            "  Computer: 1\n",
            "\n",
            "Do you want to play another round? (yes/no)\n",
            "rock\n",
            "\n",
            " Final Scores \n",
            "  Total Rounds Played: 2\n",
            "  You: 0\n",
            "  Computer: 1\n",
            "Computer wins the game! Better luck next time. 🤖\n"
          ]
        }
      ]
    }
  ]
}